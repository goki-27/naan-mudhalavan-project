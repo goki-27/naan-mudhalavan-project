{
  "metadata": {
    "kernelspec": {
      "name": "python",
      "display_name": "Python (Pyodide)",
      "language": "python"
    },
    "language_info": {
      "codemirror_mode": {
        "name": "python",
        "version": 3
      },
      "file_extension": ".py",
      "mimetype": "text/x-python",
      "name": "python",
      "nbconvert_exporter": "python",
      "pygments_lexer": "ipython3",
      "version": "3.8"
    }
  },
  "nbformat_minor": 4,
  "nbformat": 4,
  "cells": [
    {
      "cell_type": "code",
      "source": "import pyttsx3\n\n# Initialize the TTS engine\nengine = pyttsx3.init()\n\n# Set properties (optional)\nengine.setProperty('rate', 150)  # Speed of speech (words per minute)\nengine.setProperty('volume', 0.9)  # Volume level (0.0 to 1.0)\n\n# Accept user input for the text to be converted to speech\ntext = input(\"Enter the text you want to convert to speech: \")\n\n# Convert text to speech\nengine.say(text)\n\n# Wait for the speech to finish\nengine.runAndWait()",
      "metadata": {
        "trusted": true
      },
      "outputs": [],
      "execution_count": null
    }
  ]
}